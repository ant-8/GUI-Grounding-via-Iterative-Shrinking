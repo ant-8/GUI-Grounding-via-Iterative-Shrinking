{
 "cells": [
  {
   "cell_type": "code",
   "execution_count": null,
   "id": "fa22d00c-8517-4687-a2b9-cf2c64779b40",
   "metadata": {},
   "outputs": [
    {
     "name": "stdout",
     "output_type": "stream",
     "text": [
      "env: CUDA_VISIBLE_DEVICES=0\n"
     ]
    },
    {
     "name": "stderr",
     "output_type": "stream",
     "text": [
      "2024-11-15 00:18:33.564267: I tensorflow/core/util/port.cc:110] oneDNN custom operations are on. You may see slightly different numerical results due to floating-point round-off errors from different computation orders. To turn them off, set the environment variable `TF_ENABLE_ONEDNN_OPTS=0`.\n",
      "2024-11-15 00:18:33.589923: I tensorflow/core/platform/cpu_feature_guard.cc:182] This TensorFlow binary is optimized to use available CPU instructions in performance-critical operations.\n",
      "To enable the following instructions: AVX2 AVX_VNNI FMA, in other operations, rebuild TensorFlow with the appropriate compiler flags.\n",
      "2024-11-15 00:18:34.063907: W tensorflow/compiler/tf2tensorrt/utils/py_utils.cc:38] TF-TRT Warning: Could not find TensorRT\n",
      "`Qwen2VLRotaryEmbedding` can now be fully parameterized by passing the model config through the `config` argument. All other arguments will be removed in v4.46\n"
     ]
    },
    {
     "data": {
      "application/vnd.jupyter.widget-view+json": {
       "model_id": "044acfad3a694ae086ac15f1507791bf",
       "version_major": 2,
       "version_minor": 0
      },
      "text/plain": [
       "Loading checkpoint shards:   0%|          | 0/4 [00:00<?, ?it/s]"
      ]
     },
     "metadata": {},
     "output_type": "display_data"
    }
   ],
   "source": [
    "%env CUDA_VISIBLE_DEVICES=0\n",
    "from utils import *\n",
    "from transformers import Qwen2VLForConditionalGeneration, AutoProcessor\n",
    "from qwen_vl_utils import process_vision_info\n",
    "import numpy as np\n",
    "from region_traverser import *\n",
    "\n",
    "model_name = \"OS-Copilot/OS-Atlas-Base-7B\"\n",
    "model = Qwen2VLForConditionalGeneration.from_pretrained(model_name, torch_dtype=\"auto\", device_map=\"auto\", attn_implementation='flash_attention_2')\n",
    "processor = AutoProcessor.from_pretrained(model_name)\n",
    "\n",
    "ds = load_screenspot_ds()"
   ]
  },
  {
   "cell_type": "code",
   "execution_count": 13,
   "id": "6de9bccf-590f-4de7-93c3-fe67b033cc37",
   "metadata": {},
   "outputs": [],
   "source": [
    "def get_coordinate_prediction(image, target):\n",
    "    messages = [\n",
    "        {\n",
    "            \"role\": \"user\",\n",
    "            \"content\": [\n",
    "                {\"type\": \"image\", \"image\": image},\n",
    "                {\"type\": \"text\", \"text\": f\"In this UI screenshot, what is the position of the element corresponding to the command \\\"{target}\\\" (with bbox)?\"},\n",
    "                #{\"type\": \"text\", \"text\": f\"In the attached UI screenshot, what is the bbox of the element corresponding to the command \\\"{target}\\\"? Write your final answer in the following format (x1, y1, x2, y2)\"},\n",
    "            ]\n",
    "        }\n",
    "    ]\n",
    "    \n",
    "    # Preparation for inference\n",
    "    text = processor.apply_chat_template(\n",
    "        messages, tokenize=False, add_generation_prompt=True\n",
    "    )\n",
    "    text += f\"<|object_ref_start|>{target}<|object_ref_end|><|box_start|>(\"\n",
    "    image_inputs, video_inputs = process_vision_info(messages)\n",
    "    inputs = processor(\n",
    "        text=[text],\n",
    "        images=image_inputs,\n",
    "        videos=video_inputs,\n",
    "        padding=True,\n",
    "        return_tensors=\"pt\",\n",
    "    )\n",
    "    inputs = inputs.to(\"cuda\")\n",
    "    generated_ids = model.generate(**inputs, max_new_tokens=128)\n",
    "    generated_ids_trimmed = [\n",
    "        out_ids[len(in_ids):] for in_ids, out_ids in zip(inputs.input_ids, generated_ids)\n",
    "    ]\n",
    "    \n",
    "    output_text = processor.batch_decode(\n",
    "        generated_ids_trimmed, skip_special_tokens=False, clean_up_tokenization_spaces=False\n",
    "    )\n",
    "    #print(output_text)\n",
    "    coords_str = output_text[0].split(\"<|box_end|>\")[0]\n",
    "    #print(coords_str)\n",
    "    coords = coords_str.replace('(', '').replace(')', '').replace('[', '').replace(']', '').split(',')\n",
    "    x1, y1, x2, y2 = map(int, coords)\n",
    "    bbox = [x1, y1, x2, y2]\n",
    "    \n",
    "    midpoint_x = (x1 + x2) / 2\n",
    "    midpoint_y = (y1 + y2) / 2\n",
    "    \n",
    "    result = (midpoint_x, midpoint_y)\n",
    "    return result"
   ]
  },
  {
   "cell_type": "code",
   "execution_count": null,
   "id": "2da3e5f5-4558-4fb1-b558-3084cd62e830",
   "metadata": {},
   "outputs": [],
   "source": [
    "dim = 999\n",
    "\n",
    "def eval_row_baseline(row, verbose=False):\n",
    "    target = row['target']\n",
    "    og_size = row['image'].size\n",
    "    current_region = row['image'].resize((dim,dim))\n",
    "    x, y = get_coordinate_prediction(current_region, target)\n",
    "    x = x * current_region.size[0]\n",
    "    x = y * current_region.size[1]\n",
    "    porp_x = x / dim\n",
    "    porp_y = y / dim\n",
    "\n",
    "    x = og_size[0] * porp_x\n",
    "    y = og_size[1] * porp_y\n",
    "\n",
    "    if verbose:\n",
    "        print(target)\n",
    "        print(current_region.size)\n",
    "        print(x,y)\n",
    "        render_crosshair(row['image'], x, y).convert(\"RGB\").show()\n",
    "    return is_in_bbox(row['bbox'], x, y)\n",
    "\n",
    "def eval_row(row, verbose=False):\n",
    "    target = row['target']\n",
    "    current_region = row['image'].copy()\n",
    "\n",
    "    traverser = RegionTraverser(current_region)\n",
    "    if verbose: print(target)\n",
    "    k = 3\n",
    "    #render_crosshair_center(current_region).show()\n",
    "    for i in range(k):\n",
    "        image_prompt = current_region.resize((dim, dim))\n",
    "        prediction_coord = get_coordinate_prediction(image_prompt, target)\n",
    "        pred_x, pred_y = prediction_coord\n",
    "        \n",
    "        if verbose: print(prediction_coord)\n",
    "        if i != k-1:\n",
    "            traverser.consume_coordinate(pred_x, pred_y)\n",
    "            result_image = traverser.get_highlighted_image()\n",
    "            current_region = traverser.get_cropped_image().resize((dim,dim))\n",
    "\n",
    "        if verbose: result_image.convert(\"RGB\").show()\n",
    "    final_bbox = traverser.get_bounding_box()\n",
    "\n",
    "    last_porp_x = pred_x / dim\n",
    "    last_porp_y = pred_y / dim\n",
    "    \n",
    "    delta_x = (final_bbox[2] - final_bbox[0]) * last_porp_x\n",
    "    delta_y = (final_bbox[3] - final_bbox[1]) * last_porp_y\n",
    "\n",
    "    x,y = final_bbox[0] + delta_x, final_bbox[1] + delta_y\n",
    "    if verbose:\n",
    "        render_crosshair(current_region, pred_x, pred_y).convert(\"RGB\").show()\n",
    "        render_crosshair(row['image'], x, y).convert(\"RGB\").show()\n",
    "        #draw_bbox_on_image(row['image'], pred_bbox).convert(\"RGB\").show()\n",
    "    return is_in_bbox(row['bbox'], x, y)\n",
    "\n",
    "#eval_row(ds[\"web\"][\"icon\"][35], True)"
   ]
  },
  {
   "cell_type": "code",
   "execution_count": 15,
   "id": "cb6a81ad-ea66-4b35-9d70-97824de1a63e",
   "metadata": {},
   "outputs": [
    {
     "name": "stderr",
     "output_type": "stream",
     "text": [
      "100%|█████████████████████████████████████████████████████████████████████████████████| 230/230 [15:42<00:00,  4.10s/it]\n",
      "100%|█████████████████████████████████████████████████████████████████████████████████| 206/206 [13:54<00:00,  4.05s/it]\n",
      "100%|█████████████████████████████████████████████████████████████████████████████████| 273/273 [18:30<00:00,  4.07s/it]\n",
      "100%|█████████████████████████████████████████████████████████████████████████████████| 229/229 [15:31<00:00,  4.07s/it]\n",
      "100%|█████████████████████████████████████████████████████████████████████████████████| 194/194 [13:09<00:00,  4.07s/it]\n",
      "100%|█████████████████████████████████████████████████████████████████████████████████| 140/140 [09:25<00:00,  4.04s/it]\n"
     ]
    }
   ],
   "source": [
    "from tqdm import tqdm\n",
    "devices = [\"web\", \"mobile\", \"desktop\"]\n",
    "ui_types = [\"text\", \"icon\"]\n",
    "\n",
    "weights = {}\n",
    "eval_result = {}\n",
    "\n",
    "for d in devices:\n",
    "    for t in ui_types:\n",
    "        test_set = ds[d][t]\n",
    "        weights[f\"{d} - {t}\"] = len(test_set)\n",
    "        results = []\n",
    "        for row in tqdm(test_set):\n",
    "            res = eval_row(row)\n",
    "            results.append(res)\n",
    "        eval_result[f\"{d} - {t}\"] = len([x for x in results if x]) / len(test_set)"
   ]
  },
  {
   "cell_type": "code",
   "execution_count": 16,
   "id": "ba06f307-050e-4f1e-887e-d45bd07b8b4a",
   "metadata": {},
   "outputs": [
    {
     "data": {
      "text/plain": [
       "{'web - text': 0.8695652173913043,\n",
       " 'web - icon': 0.7233009708737864,\n",
       " 'mobile - text': 0.9304029304029304,\n",
       " 'mobile - icon': 0.74235807860262,\n",
       " 'desktop - text': 0.9226804123711341,\n",
       " 'desktop - icon': 0.7714285714285715}"
      ]
     },
     "execution_count": 16,
     "metadata": {},
     "output_type": "execute_result"
    }
   ],
   "source": [
    "eval_result"
   ]
  },
  {
   "cell_type": "code",
   "execution_count": 17,
   "id": "cb76e7e3-65b5-4d1d-b9c7-46e3b4ad88ea",
   "metadata": {},
   "outputs": [
    {
     "data": {
      "text/plain": [
       "0.8333333333333334"
      ]
     },
     "execution_count": 17,
     "metadata": {},
     "output_type": "execute_result"
    }
   ],
   "source": [
    "import numpy as np\n",
    "np.average(list(eval_result.values()), weights=list(weights.values()))"
   ]
  },
  {
   "cell_type": "code",
   "execution_count": null,
   "id": "add28740-f5bb-4640-8ccf-7697950f32f9",
   "metadata": {},
   "outputs": [],
   "source": []
  }
 ],
 "metadata": {
  "kernelspec": {
   "display_name": "Python 3 (ipykernel)",
   "language": "python",
   "name": "python3"
  },
  "language_info": {
   "codemirror_mode": {
    "name": "ipython",
    "version": 3
   },
   "file_extension": ".py",
   "mimetype": "text/x-python",
   "name": "python",
   "nbconvert_exporter": "python",
   "pygments_lexer": "ipython3",
   "version": "3.11.9"
  }
 },
 "nbformat": 4,
 "nbformat_minor": 5
}
