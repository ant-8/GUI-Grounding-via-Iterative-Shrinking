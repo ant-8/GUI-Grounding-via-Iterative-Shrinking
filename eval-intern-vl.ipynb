{
 "cells": [
  {
   "cell_type": "code",
   "execution_count": 1,
   "id": "fa22d00c-8517-4687-a2b9-cf2c64779b40",
   "metadata": {},
   "outputs": [
    {
     "name": "stdout",
     "output_type": "stream",
     "text": [
      "env: CUDA_VISIBLE_DEVICES=1\n",
      "env: PROTOCOL_BUFFERS_PYTHON_IMPLEMENTATION=python\n"
     ]
    },
    {
     "name": "stderr",
     "output_type": "stream",
     "text": [
      "2024-11-15 03:38:07.555617: I tensorflow/core/util/port.cc:110] oneDNN custom operations are on. You may see slightly different numerical results due to floating-point round-off errors from different computation orders. To turn them off, set the environment variable `TF_ENABLE_ONEDNN_OPTS=0`.\n",
      "2024-11-15 03:38:07.581456: I tensorflow/core/platform/cpu_feature_guard.cc:182] This TensorFlow binary is optimized to use available CPU instructions in performance-critical operations.\n",
      "To enable the following instructions: AVX2 AVX_VNNI FMA, in other operations, rebuild TensorFlow with the appropriate compiler flags.\n",
      "2024-11-15 03:38:08.143649: W tensorflow/compiler/tf2tensorrt/utils/py_utils.cc:38] TF-TRT Warning: Could not find TensorRT\n",
      "Phi3ForCausalLM has generative capabilities, as `prepare_inputs_for_generation` is explicitly overwritten. However, it doesn't directly inherit from `GenerationMixin`. From 👉v4.50👈 onwards, `PreTrainedModel` will NOT inherit from `GenerationMixin`, and this model will lose the ability to call `generate` and other related functions.\n",
      "  - If you're using `trust_remote_code=True`, you can get rid of this warning by loading the model with an auto class. See https://huggingface.co/docs/transformers/en/model_doc/auto#auto-classes\n",
      "  - If you are the owner of the model architecture code, please modify your model class such that it inherits from `GenerationMixin` (after `PreTrainedModel`, otherwise you'll get an exception).\n",
      "  - If you are not the owner of the model architecture class, please contact the model code owner to update it.\n"
     ]
    },
    {
     "data": {
      "application/vnd.jupyter.widget-view+json": {
       "model_id": "8072a4b9f318484f880cbc9d00c3c9bd",
       "version_major": 2,
       "version_minor": 0
      },
      "text/plain": [
       "Loading checkpoint shards:   0%|          | 0/2 [00:00<?, ?it/s]"
      ]
     },
     "metadata": {},
     "output_type": "display_data"
    }
   ],
   "source": [
    "%env CUDA_VISIBLE_DEVICES=1\n",
    "%env PROTOCOL_BUFFERS_PYTHON_IMPLEMENTATION=python\n",
    "from utils import *\n",
    "from transformers import Qwen2VLForConditionalGeneration, AutoProcessor\n",
    "from qwen_vl_utils import process_vision_info\n",
    "from region_traverser import *\n",
    "from intern_vl_utils import *\n",
    "import numpy as np\n",
    "\n",
    "path = 'OpenGVLab/InternVL2-4B'\n",
    "model = AutoModel.from_pretrained(\n",
    "    path,\n",
    "    torch_dtype=torch.bfloat16,\n",
    "    low_cpu_mem_usage=True,\n",
    "    use_flash_attn=True,\n",
    "    trust_remote_code=True).eval().cuda()\n",
    "tokenizer = AutoTokenizer.from_pretrained(path, trust_remote_code=True, use_fast=False)\n",
    "\n",
    "ds = load_screenspot_ds()"
   ]
  },
  {
   "cell_type": "code",
   "execution_count": 4,
   "id": "6de9bccf-590f-4de7-93c3-fe67b033cc37",
   "metadata": {},
   "outputs": [],
   "source": [
    "def get_coordinate_prediction(image, target):\n",
    "    prompt_text = f\"<image>\\nIn the attached UI screenshot, calculate the exact position of the element corresponding to the command \\\"{target}\\\". Write your answer in the form of (x, y) where each x and y is normalized between 0 and 1. Examples: (0.25, 0.25) is the top-left, (0.75, 0.75) is the bottom-right. Answer in a single sentence.\"\n",
    "    pixel_values = load_image_from_pil(image, max_num=12).to(torch.bfloat16).cuda()\n",
    "    generation_config = dict(max_new_tokens=1024, do_sample=False)\n",
    "\n",
    "    output_text = model.chat(tokenizer, pixel_values, prompt_text, generation_config)\n",
    "\n",
    "    x, y = extract_tuple_from_string(output_text)#map(int, coords)\n",
    "    \n",
    "    result = (x*999, y*999)\n",
    "    return result"
   ]
  },
  {
   "cell_type": "code",
   "execution_count": 5,
   "id": "e80789c1-ce27-496e-a4a8-6fc71165c8a6",
   "metadata": {},
   "outputs": [],
   "source": [
    "dim = 999\n",
    "\n",
    "def eval_row_baseline(row, verbose=False):\n",
    "    target = row['target']\n",
    "    og_size = row['image'].size\n",
    "    current_region = row['image'].resize((dim,dim))\n",
    "    x, y = get_coordinate_prediction(current_region, target)\n",
    "    x = x * current_region.size[0]\n",
    "    x = y * current_region.size[1]\n",
    "    porp_x = x / dim\n",
    "    porp_y = y / dim\n",
    "\n",
    "    x = og_size[0] * porp_x\n",
    "    y = og_size[1] * porp_y\n",
    "\n",
    "    if verbose:\n",
    "        print(target)\n",
    "        print(current_region.size)\n",
    "        print(x,y)\n",
    "        render_crosshair(row['image'], x, y).convert(\"RGB\").show()\n",
    "    return is_in_bbox(row['bbox'], x, y)\n",
    "\n",
    "def eval_row(row, verbose=False):\n",
    "    target = row['target']\n",
    "    current_region = row['image'].copy()\n",
    "\n",
    "    traverser = RegionTraverser(current_region)\n",
    "    if verbose: print(target)\n",
    "    k = 3\n",
    "    for i in range(k):\n",
    "        image_prompt = current_region.resize((dim, dim))\n",
    "        prediction_coord = get_coordinate_prediction(image_prompt, target)\n",
    "        pred_x, pred_y = prediction_coord\n",
    "        \n",
    "        if verbose: print(prediction_coord)\n",
    "        if i != k-1:\n",
    "            traverser.consume_coordinate(pred_x, pred_y)\n",
    "            result_image = traverser.get_highlighted_image()\n",
    "            current_region = traverser.get_cropped_image().resize((dim,dim))\n",
    "\n",
    "        if verbose: result_image.convert(\"RGB\").show()\n",
    "    final_bbox = traverser.get_bounding_box()\n",
    "\n",
    "    last_porp_x = pred_x / dim\n",
    "    last_porp_y = pred_y / dim\n",
    "    \n",
    "    delta_x = (final_bbox[2] - final_bbox[0]) * last_porp_x\n",
    "    delta_y = (final_bbox[3] - final_bbox[1]) * last_porp_y\n",
    "\n",
    "    x,y = final_bbox[0] + delta_x, final_bbox[1] + delta_y\n",
    "    if verbose:\n",
    "        render_crosshair(current_region, pred_x, pred_y).convert(\"RGB\").show()\n",
    "        render_crosshair(row['image'], x, y).convert(\"RGB\").show()\n",
    "    return is_in_bbox(row['bbox'], x, y)\n",
    "\n",
    "#eval_row(test_set[85], verbose=True)"
   ]
  },
  {
   "cell_type": "code",
   "execution_count": 7,
   "id": "cb6a81ad-ea66-4b35-9d70-97824de1a63e",
   "metadata": {},
   "outputs": [
    {
     "name": "stderr",
     "output_type": "stream",
     "text": [
      "  0%|                                                                                           | 0/230 [00:00<?, ?it/s]The `seen_tokens` attribute is deprecated and will be removed in v4.41. Use the `cache_position` model input instead.\n",
      "`get_max_cache()` is deprecated for all Cache classes. Use `get_max_cache_shape()` instead. Calling `get_max_cache()` will raise error from v4.48\n",
      "100%|█████████████████████████████████████████████████████████████████████████████████| 230/230 [15:44<00:00,  4.11s/it]\n",
      "100%|█████████████████████████████████████████████████████████████████████████████████| 206/206 [14:10<00:00,  4.13s/it]\n",
      "100%|█████████████████████████████████████████████████████████████████████████████████| 273/273 [17:53<00:00,  3.93s/it]\n",
      "100%|█████████████████████████████████████████████████████████████████████████████████| 229/229 [14:59<00:00,  3.93s/it]\n",
      "100%|█████████████████████████████████████████████████████████████████████████████████| 194/194 [12:50<00:00,  3.97s/it]\n",
      "100%|█████████████████████████████████████████████████████████████████████████████████| 140/140 [09:13<00:00,  3.95s/it]\n"
     ]
    }
   ],
   "source": [
    "from tqdm import tqdm\n",
    "devices = [\"web\", \"mobile\", \"desktop\"]\n",
    "ui_types = [\"text\", \"icon\"]\n",
    "\n",
    "weights = {}\n",
    "eval_result = {}\n",
    "\n",
    "for d in devices:\n",
    "    for t in ui_types:\n",
    "        test_set = ds[d][t]\n",
    "        results = []\n",
    "        weights[f\"{d} - {t}\"] = len(test_set)\n",
    "        for row in tqdm(test_set):\n",
    "            res = eval_row(row)\n",
    "            results.append(res)\n",
    "        eval_result[f\"{d} - {t}\"] = len([x for x in results if x]) / len(test_set)"
   ]
  },
  {
   "cell_type": "code",
   "execution_count": 8,
   "id": "ba06f307-050e-4f1e-887e-d45bd07b8b4a",
   "metadata": {},
   "outputs": [
    {
     "data": {
      "text/plain": [
       "{'web - text': 0.05217391304347826,\n",
       " 'web - icon': 0.02912621359223301,\n",
       " 'mobile - text': 0.14652014652014653,\n",
       " 'mobile - icon': 0.021834061135371178,\n",
       " 'desktop - text': 0.08762886597938144,\n",
       " 'desktop - icon': 0.02142857142857143}"
      ]
     },
     "execution_count": 8,
     "metadata": {},
     "output_type": "execute_result"
    }
   ],
   "source": [
    "eval_result"
   ]
  },
  {
   "cell_type": "code",
   "execution_count": 9,
   "id": "cb76e7e3-65b5-4d1d-b9c7-46e3b4ad88ea",
   "metadata": {},
   "outputs": [
    {
     "data": {
      "text/plain": [
       "0.06525157232704402"
      ]
     },
     "execution_count": 9,
     "metadata": {},
     "output_type": "execute_result"
    }
   ],
   "source": [
    "np.average(list(eval_result.values()), weights=list(weights.values()))"
   ]
  }
 ],
 "metadata": {
  "kernelspec": {
   "display_name": "Python 3 (ipykernel)",
   "language": "python",
   "name": "python3"
  },
  "language_info": {
   "codemirror_mode": {
    "name": "ipython",
    "version": 3
   },
   "file_extension": ".py",
   "mimetype": "text/x-python",
   "name": "python",
   "nbconvert_exporter": "python",
   "pygments_lexer": "ipython3",
   "version": "3.11.9"
  }
 },
 "nbformat": 4,
 "nbformat_minor": 5
}
