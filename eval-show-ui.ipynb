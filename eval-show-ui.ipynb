{
 "cells": [
  {
   "cell_type": "code",
   "execution_count": 1,
   "id": "fa22d00c-8517-4687-a2b9-cf2c64779b40",
   "metadata": {},
   "outputs": [
    {
     "name": "stdout",
     "output_type": "stream",
     "text": [
      "env: CUDA_VISIBLE_DEVICES=0\n"
     ]
    },
    {
     "name": "stderr",
     "output_type": "stream",
     "text": [
      "2024-12-19 22:37:04.444702: I tensorflow/core/util/port.cc:110] oneDNN custom operations are on. You may see slightly different numerical results due to floating-point round-off errors from different computation orders. To turn them off, set the environment variable `TF_ENABLE_ONEDNN_OPTS=0`.\n",
      "2024-12-19 22:37:04.445996: I tensorflow/tsl/cuda/cudart_stub.cc:28] Could not find cuda drivers on your machine, GPU will not be used.\n",
      "2024-12-19 22:37:04.469497: I tensorflow/core/platform/cpu_feature_guard.cc:182] This TensorFlow binary is optimized to use available CPU instructions in performance-critical operations.\n",
      "To enable the following instructions: AVX2 AVX_VNNI FMA, in other operations, rebuild TensorFlow with the appropriate compiler flags.\n",
      "2024-12-19 22:37:05.045902: W tensorflow/compiler/tf2tensorrt/utils/py_utils.cc:38] TF-TRT Warning: Could not find TensorRT\n",
      "`Qwen2VLRotaryEmbedding` can now be fully parameterized by passing the model config through the `config` argument. All other arguments will be removed in v4.46\n"
     ]
    },
    {
     "name": "stdout",
     "output_type": "stream",
     "text": [
      "[2024-12-19 22:37:06,248] [INFO] [real_accelerator.py:219:get_accelerator] Setting ds_accelerator to cpu (auto detect)\n"
     ]
    },
    {
     "name": "stderr",
     "output_type": "stream",
     "text": [
      "/home/trainer/anaconda3/envs/ml/compiler_compat/ld: cannot find -laio: No such file or directory\n",
      "collect2: error: ld returned 1 exit status\n"
     ]
    },
    {
     "data": {
      "application/vnd.jupyter.widget-view+json": {
       "model_id": "62a437d67bf045a8b0bed0559a5b8cbc",
       "version_major": 2,
       "version_minor": 0
      },
      "text/plain": [
       "preprocessor_config.json:   0%|          | 0.00/347 [00:00<?, ?B/s]"
      ]
     },
     "metadata": {},
     "output_type": "display_data"
    },
    {
     "data": {
      "application/vnd.jupyter.widget-view+json": {
       "model_id": "13425fbf77444d759fce5cab3dcba214",
       "version_major": 2,
       "version_minor": 0
      },
      "text/plain": [
       "tokenizer_config.json:   0%|          | 0.00/4.19k [00:00<?, ?B/s]"
      ]
     },
     "metadata": {},
     "output_type": "display_data"
    },
    {
     "data": {
      "application/vnd.jupyter.widget-view+json": {
       "model_id": "4f443dd264ae4010b4e2e1f280c2c647",
       "version_major": 2,
       "version_minor": 0
      },
      "text/plain": [
       "vocab.json:   0%|          | 0.00/2.78M [00:00<?, ?B/s]"
      ]
     },
     "metadata": {},
     "output_type": "display_data"
    },
    {
     "data": {
      "application/vnd.jupyter.widget-view+json": {
       "model_id": "53722810269e49f4945a827abc36ba5e",
       "version_major": 2,
       "version_minor": 0
      },
      "text/plain": [
       "merges.txt:   0%|          | 0.00/1.67M [00:00<?, ?B/s]"
      ]
     },
     "metadata": {},
     "output_type": "display_data"
    },
    {
     "data": {
      "application/vnd.jupyter.widget-view+json": {
       "model_id": "ffb83ea932834026b67d71947f944454",
       "version_major": 2,
       "version_minor": 0
      },
      "text/plain": [
       "tokenizer.json:   0%|          | 0.00/7.03M [00:00<?, ?B/s]"
      ]
     },
     "metadata": {},
     "output_type": "display_data"
    },
    {
     "data": {
      "application/vnd.jupyter.widget-view+json": {
       "model_id": "2b2d51a905c340fe9bd71ecfad27483e",
       "version_major": 2,
       "version_minor": 0
      },
      "text/plain": [
       "chat_template.json:   0%|          | 0.00/1.05k [00:00<?, ?B/s]"
      ]
     },
     "metadata": {},
     "output_type": "display_data"
    }
   ],
   "source": [
    "%env CUDA_VISIBLE_DEVICES=0\n",
    "from utils import *\n",
    "from transformers import Qwen2VLForConditionalGeneration, AutoProcessor\n",
    "from qwen_vl_utils import process_vision_info\n",
    "from region_traverser import *\n",
    "\n",
    "model_name = \"showlab/ShowUI-2B\"\n",
    "model = Qwen2VLForConditionalGeneration.from_pretrained(\n",
    "    model_name,\n",
    "    torch_dtype=\"auto\",\n",
    "    device_map=\"auto\",\n",
    "    attn_implementation='flash_attention_2'\n",
    ")\n",
    "min_pixels = 256*28*28\n",
    "max_pixels = 1344*28*28\n",
    "\n",
    "processor = AutoProcessor.from_pretrained(\"Qwen/Qwen2-VL-2B-Instruct\", min_pixels=min_pixels, max_pixels=max_pixels)\n",
    "\n",
    "ds = load_screenspot_ds()"
   ]
  },
  {
   "cell_type": "code",
   "execution_count": 2,
   "id": "6de9bccf-590f-4de7-93c3-fe67b033cc37",
   "metadata": {},
   "outputs": [],
   "source": [
    "def get_coordinate_prediction(image, target):\n",
    "    #img_url = 'examples/web_dbd7514b-9ca3-40cd-b09a-990f7b955da1.png'\n",
    "    query = target\n",
    "    \n",
    "    \n",
    "    _SYSTEM = \"Based on the screenshot of the page, I give a text description and you give its corresponding location. The coordinate represents a clickable location [x, y] for an element, which is a relative coordinate on the screenshot, scaled from 0 to 1.\"\n",
    "    messages = [\n",
    "        {\n",
    "            \"role\": \"user\",\n",
    "            \"content\": [\n",
    "                {\"type\": \"text\", \"text\": _SYSTEM},\n",
    "                {\"type\": \"image\", \"image\": image},\n",
    "                {\"type\": \"text\", \"text\": query}\n",
    "            ],\n",
    "        }\n",
    "    ]\n",
    "    \n",
    "    text = processor.apply_chat_template(\n",
    "        messages, tokenize=False, add_generation_prompt=True,\n",
    "    )\n",
    "    image_inputs, video_inputs = process_vision_info(messages)\n",
    "    inputs = processor(\n",
    "        text=[text],\n",
    "        images=image_inputs,\n",
    "        videos=video_inputs,\n",
    "        padding=True,\n",
    "        return_tensors=\"pt\",\n",
    "    )\n",
    "    inputs = inputs.to(\"cuda\")\n",
    "    \n",
    "    generated_ids = model.generate(**inputs, max_new_tokens=128)\n",
    "    generated_ids_trimmed = [\n",
    "        out_ids[len(in_ids) :] for in_ids, out_ids in zip(inputs.input_ids, generated_ids)\n",
    "    ]\n",
    "    output_text = processor.batch_decode(\n",
    "        generated_ids_trimmed, skip_special_tokens=True, clean_up_tokenization_spaces=False\n",
    "    )[0]\n",
    "    \n",
    "    x, y = tuple(ast.literal_eval(output_text))\n",
    "    \n",
    "    result = (x*999, y*999)\n",
    "    return result"
   ]
  },
  {
   "cell_type": "code",
   "execution_count": 8,
   "id": "e80789c1-ce27-496e-a4a8-6fc71165c8a6",
   "metadata": {},
   "outputs": [],
   "source": [
    "import ast\n",
    "dim = 999\n",
    "\n",
    "def eval_row_baseline(row, verbose=False):\n",
    "    target = row['target']\n",
    "    og_size = row['image'].size\n",
    "    current_region = row['image'].resize((dim,dim))\n",
    "    x, y = get_coordinate_prediction([current_region], target)\n",
    "    x = x * current_region.size[0]\n",
    "    x = y * current_region.size[1]\n",
    "    porp_x = x / dim\n",
    "    porp_y = y / dim\n",
    "\n",
    "    x = og_size[0] * porp_x\n",
    "    y = og_size[1] * porp_y\n",
    "\n",
    "    if verbose:\n",
    "        print(target)\n",
    "        print(current_region.size)\n",
    "        print(x,y)\n",
    "        render_crosshair(row['image'], x, y).convert(\"RGB\").show()\n",
    "    return is_in_bbox(row['bbox'], x, y)\n",
    "\n",
    "def eval_row(row, verbose=False):\n",
    "    target = row['target']\n",
    "    current_region = row['image'].copy()\n",
    "\n",
    "    traverser = RegionTraverser(current_region)\n",
    "    if verbose: print(target)\n",
    "    k = 3\n",
    "    #render_crosshair_center(current_region).show()\n",
    "    for i in range(k):\n",
    "        image_prompt = current_region.resize((dim, dim))\n",
    "        prediction_coord = get_coordinate_prediction(image_prompt, target)\n",
    "        pred_x, pred_y = prediction_coord\n",
    "        \n",
    "        if verbose: print(prediction_coord)\n",
    "        if i != k-1:\n",
    "            traverser.consume_coordinate(pred_x, pred_y)\n",
    "            result_image = traverser.get_highlighted_image()\n",
    "            current_region = traverser.get_cropped_image().resize((dim,dim))\n",
    "\n",
    "        if verbose: result_image.convert(\"RGB\").show()\n",
    "    final_bbox = traverser.get_bounding_box()\n",
    "\n",
    "    last_porp_x = pred_x / dim\n",
    "    last_porp_y = pred_y / dim\n",
    "    \n",
    "    delta_x = (final_bbox[2] - final_bbox[0]) * last_porp_x\n",
    "    delta_y = (final_bbox[3] - final_bbox[1]) * last_porp_y\n",
    "\n",
    "    x,y = final_bbox[0] + delta_x, final_bbox[1] + delta_y\n",
    "    if verbose:\n",
    "        render_crosshair(current_region, pred_x, pred_y).convert(\"RGB\").show()\n",
    "        render_crosshair(row['image'], x, y).convert(\"RGB\").show()\n",
    "        #draw_bbox_on_image(row['image'], pred_bbox).convert(\"RGB\").show()\n",
    "    return is_in_bbox(row['bbox'], x, y)\n",
    "\n",
    "#eval_row(ds['web']['text'][0], True)"
   ]
  },
  {
   "cell_type": "code",
   "execution_count": 5,
   "id": "cb6a81ad-ea66-4b35-9d70-97824de1a63e",
   "metadata": {},
   "outputs": [
    {
     "name": "stderr",
     "output_type": "stream",
     "text": [
      "100%|█████████████████████████████████████████████████████████████████████████████████| 230/230 [06:42<00:00,  1.75s/it]\n",
      "100%|█████████████████████████████████████████████████████████████████████████████████| 206/206 [06:01<00:00,  1.75s/it]\n",
      "100%|█████████████████████████████████████████████████████████████████████████████████| 273/273 [07:40<00:00,  1.69s/it]\n",
      "100%|█████████████████████████████████████████████████████████████████████████████████| 229/229 [06:29<00:00,  1.70s/it]\n",
      "100%|█████████████████████████████████████████████████████████████████████████████████| 194/194 [05:26<00:00,  1.68s/it]\n",
      "100%|█████████████████████████████████████████████████████████████████████████████████| 140/140 [03:56<00:00,  1.69s/it]\n"
     ]
    }
   ],
   "source": [
    "from tqdm import tqdm\n",
    "devices = [\"web\", \"mobile\", \"desktop\"]\n",
    "ui_types = [\"text\", \"icon\"]\n",
    "\n",
    "weights = {}\n",
    "eval_result = {}\n",
    "\n",
    "for d in devices:\n",
    "    for t in ui_types:\n",
    "        test_set = ds[d][t]\n",
    "        weights[f\"{d} - {t}\"] = len(test_set)\n",
    "        results = []\n",
    "        for row in tqdm(test_set):\n",
    "            res = eval_row(row)\n",
    "            results.append(res)\n",
    "        eval_result[f\"{d} - {t}\"] = len([x for x in results if x]) / len(test_set)"
   ]
  },
  {
   "cell_type": "code",
   "execution_count": 6,
   "id": "ba06f307-050e-4f1e-887e-d45bd07b8b4a",
   "metadata": {},
   "outputs": [
    {
     "data": {
      "text/plain": [
       "{'web - text': 0.8304347826086956,\n",
       " 'web - icon': 0.6893203883495146,\n",
       " 'mobile - text': 0.8901098901098901,\n",
       " 'mobile - icon': 0.74235807860262,\n",
       " 'desktop - text': 0.8762886597938144,\n",
       " 'desktop - icon': 0.6857142857142857}"
      ]
     },
     "execution_count": 6,
     "metadata": {},
     "output_type": "execute_result"
    }
   ],
   "source": [
    "eval_result"
   ]
  },
  {
   "cell_type": "code",
   "execution_count": 7,
   "id": "cb76e7e3-65b5-4d1d-b9c7-46e3b4ad88ea",
   "metadata": {},
   "outputs": [
    {
     "data": {
      "text/plain": [
       "0.7955974842767296"
      ]
     },
     "execution_count": 7,
     "metadata": {},
     "output_type": "execute_result"
    }
   ],
   "source": [
    "import numpy as np\n",
    "np.average(list(eval_result.values()), weights=list(weights.values()))"
   ]
  }
 ],
 "metadata": {
  "kernelspec": {
   "display_name": "Python 3 (ipykernel)",
   "language": "python",
   "name": "python3"
  },
  "language_info": {
   "codemirror_mode": {
    "name": "ipython",
    "version": 3
   },
   "file_extension": ".py",
   "mimetype": "text/x-python",
   "name": "python",
   "nbconvert_exporter": "python",
   "pygments_lexer": "ipython3",
   "version": "3.11.9"
  }
 },
 "nbformat": 4,
 "nbformat_minor": 5
}
